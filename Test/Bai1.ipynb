{
 "cells": [
  {
   "cell_type": "code",
   "execution_count": 58,
   "id": "d18dce34-1e08-470d-b835-ea42faf78a35",
   "metadata": {},
   "outputs": [
    {
     "name": "stdout",
     "output_type": "stream",
     "text": [
      "Giả sử list là do tuple để bài yêu cầu được chuyển thành list do method list()\n"
     ]
    },
    {
     "name": "stdin",
     "output_type": "stream",
     "text": [
      "Nhap n :  23\n",
      " 1\n",
      " 1\n",
      " 1\n",
      " 1\n",
      " 1\n",
      " 1\n",
      " 1\n",
      " 1\n",
      " 1\n",
      " 1\n",
      " 2\n",
      " 2\n",
      " 2\n",
      " 2\n",
      " 2\n",
      " 3\n",
      " 3\n",
      " 3\n",
      " 4\n",
      " 4\n",
      " 4\n",
      " 4\n",
      " 4\n"
     ]
    },
    {
     "name": "stdout",
     "output_type": "stream",
     "text": [
      "[1, 1, 1, 1, 1, 1, 1, 1, 1, 1, 2, 2, 2, 2, 2, 3, 3, 3, 4, 4, 4, 4, 4]\n",
      "{2, 4}\n",
      " Kết quả của tuple cần tìm là : (2, 4)\n"
     ]
    }
   ],
   "source": [
    "print('Giả sử list là do tuple để bài yêu cầu được chuyển thành list do method list()')\n",
    "list=[]\n",
    "listRes = [] \n",
    "n = int(input( 'Nhap n : ' )) \n",
    "for i in range(0,n) :\n",
    "    i = int(input() ) \n",
    "    list.append(i) \n",
    "print(list) \n",
    "\n",
    "for i in range(len(list)) :\n",
    "    if ( (list.count( list[i] ) % 5 == 0) and (list.count( list[i] ) % 10 != 0)  ) :\n",
    "        # print(list[i]) \n",
    "        listRes.append(list[i]) \n",
    "    # if ( list[i] is list[i] ) :\n",
    "    #     continue\n",
    "setRes = set(listRes) \n",
    "# print(setRes) \n",
    "tupleResult = tuple(setRes) \n",
    "print(f' Kết quả của tuple cần tìm là : {tupleResult}') "
   ]
  },
  {
   "cell_type": "code",
   "execution_count": null,
   "id": "290ee0cf-e620-4bdd-82b1-808bc83d9533",
   "metadata": {},
   "outputs": [],
   "source": []
  },
  {
   "cell_type": "code",
   "execution_count": null,
   "id": "f8660ec4-d836-4f35-80a9-1d02c02c2eda",
   "metadata": {},
   "outputs": [],
   "source": []
  }
 ],
 "metadata": {
  "kernelspec": {
   "display_name": "Python 3 (ipykernel)",
   "language": "python",
   "name": "python3"
  },
  "language_info": {
   "codemirror_mode": {
    "name": "ipython",
    "version": 3
   },
   "file_extension": ".py",
   "mimetype": "text/x-python",
   "name": "python",
   "nbconvert_exporter": "python",
   "pygments_lexer": "ipython3",
   "version": "3.12.4"
  }
 },
 "nbformat": 4,
 "nbformat_minor": 5
}
